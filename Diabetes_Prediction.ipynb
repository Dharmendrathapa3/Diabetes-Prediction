{
  "cells": [
    {
      "cell_type": "code",
      "execution_count": 1,
      "metadata": {
        "id": "LvcqRNgvz_DX"
      },
      "outputs": [],
      "source": [
        "import pandas as pd\n",
        "import numpy as np\n",
        "import matplotlib.pyplot as plt\n",
        "import seaborn as sns\n",
        "import warnings\n",
        "warnings.filterwarnings('ignore')\n",
        "from sklearn.preprocessing import LabelEncoder\n",
        "from sklearn.model_selection import train_test_split\n",
        "from sklearn.preprocessing import StandardScaler\n",
        "from sklearn.metrics import accuracy_score, precision_score, recall_score, f1_score, confusion_matrix"
      ]
    },
    {
      "cell_type": "code",
      "execution_count": 3,
      "metadata": {
        "id": "yFwWIMuR0FcJ"
      },
      "outputs": [
        {
          "data": {
            "text/html": [
              "<div>\n",
              "<style scoped>\n",
              "    .dataframe tbody tr th:only-of-type {\n",
              "        vertical-align: middle;\n",
              "    }\n",
              "\n",
              "    .dataframe tbody tr th {\n",
              "        vertical-align: top;\n",
              "    }\n",
              "\n",
              "    .dataframe thead th {\n",
              "        text-align: right;\n",
              "    }\n",
              "</style>\n",
              "<table border=\"1\" class=\"dataframe\">\n",
              "  <thead>\n",
              "    <tr style=\"text-align: right;\">\n",
              "      <th></th>\n",
              "      <th>Gender</th>\n",
              "      <th>Age</th>\n",
              "      <th>Blood Sugar Fasting</th>\n",
              "      <th>Blood Sugar PP</th>\n",
              "      <th>HbA1C</th>\n",
              "      <th>Outcome</th>\n",
              "    </tr>\n",
              "  </thead>\n",
              "  <tbody>\n",
              "    <tr>\n",
              "      <th>0</th>\n",
              "      <td>F</td>\n",
              "      <td>74</td>\n",
              "      <td>244.5</td>\n",
              "      <td>213.9</td>\n",
              "      <td>6.11</td>\n",
              "      <td>Diabetes</td>\n",
              "    </tr>\n",
              "    <tr>\n",
              "      <th>1</th>\n",
              "      <td>F</td>\n",
              "      <td>38</td>\n",
              "      <td>223.5</td>\n",
              "      <td>304.8</td>\n",
              "      <td>6.96</td>\n",
              "      <td>Diabetes</td>\n",
              "    </tr>\n",
              "    <tr>\n",
              "      <th>2</th>\n",
              "      <td>F</td>\n",
              "      <td>62</td>\n",
              "      <td>131.5</td>\n",
              "      <td>207.3</td>\n",
              "      <td>7.02</td>\n",
              "      <td>Diabetes</td>\n",
              "    </tr>\n",
              "    <tr>\n",
              "      <th>3</th>\n",
              "      <td>M</td>\n",
              "      <td>72</td>\n",
              "      <td>131.3</td>\n",
              "      <td>247.6</td>\n",
              "      <td>6.66</td>\n",
              "      <td>Diabetes</td>\n",
              "    </tr>\n",
              "    <tr>\n",
              "      <th>4</th>\n",
              "      <td>F</td>\n",
              "      <td>54</td>\n",
              "      <td>214.3</td>\n",
              "      <td>338.8</td>\n",
              "      <td>11.06</td>\n",
              "      <td>Diabetes</td>\n",
              "    </tr>\n",
              "    <tr>\n",
              "      <th>...</th>\n",
              "      <td>...</td>\n",
              "      <td>...</td>\n",
              "      <td>...</td>\n",
              "      <td>...</td>\n",
              "      <td>...</td>\n",
              "      <td>...</td>\n",
              "    </tr>\n",
              "    <tr>\n",
              "      <th>4012</th>\n",
              "      <td>F</td>\n",
              "      <td>75</td>\n",
              "      <td>120.0</td>\n",
              "      <td>221.8</td>\n",
              "      <td>6.80</td>\n",
              "      <td>Diabetes</td>\n",
              "    </tr>\n",
              "    <tr>\n",
              "      <th>4013</th>\n",
              "      <td>F</td>\n",
              "      <td>36</td>\n",
              "      <td>92.0</td>\n",
              "      <td>99.4</td>\n",
              "      <td>4.19</td>\n",
              "      <td>Normal</td>\n",
              "    </tr>\n",
              "    <tr>\n",
              "      <th>4014</th>\n",
              "      <td>M</td>\n",
              "      <td>59</td>\n",
              "      <td>107.0</td>\n",
              "      <td>179.0</td>\n",
              "      <td>4.90</td>\n",
              "      <td>Normal</td>\n",
              "    </tr>\n",
              "    <tr>\n",
              "      <th>4015</th>\n",
              "      <td>F</td>\n",
              "      <td>50</td>\n",
              "      <td>99.0</td>\n",
              "      <td>198.0</td>\n",
              "      <td>4.20</td>\n",
              "      <td>Normal</td>\n",
              "    </tr>\n",
              "    <tr>\n",
              "      <th>4016</th>\n",
              "      <td>F</td>\n",
              "      <td>37</td>\n",
              "      <td>213.0</td>\n",
              "      <td>366.7</td>\n",
              "      <td>6.30</td>\n",
              "      <td>Diabetes</td>\n",
              "    </tr>\n",
              "  </tbody>\n",
              "</table>\n",
              "<p>4017 rows × 6 columns</p>\n",
              "</div>"
            ],
            "text/plain": [
              "     Gender  Age  Blood Sugar Fasting  Blood Sugar PP  HbA1C   Outcome\n",
              "0         F   74                244.5           213.9   6.11  Diabetes\n",
              "1         F   38                223.5           304.8   6.96  Diabetes\n",
              "2         F   62                131.5           207.3   7.02  Diabetes\n",
              "3         M   72                131.3           247.6   6.66  Diabetes\n",
              "4         F   54                214.3           338.8  11.06  Diabetes\n",
              "...     ...  ...                  ...             ...    ...       ...\n",
              "4012      F   75                120.0           221.8   6.80  Diabetes\n",
              "4013      F   36                 92.0            99.4   4.19    Normal\n",
              "4014      M   59                107.0           179.0   4.90    Normal\n",
              "4015      F   50                 99.0           198.0   4.20    Normal\n",
              "4016      F   37                213.0           366.7   6.30  Diabetes\n",
              "\n",
              "[4017 rows x 6 columns]"
            ]
          },
          "execution_count": 3,
          "metadata": {},
          "output_type": "execute_result"
        }
      ],
      "source": [
        "# loading the data from csv file to a pandas Dataframe\n",
        "skt_data=pd.read_csv(\"skt_Diabetes.csv\")\n",
        "skt_data"
      ]
    },
    {
      "cell_type": "code",
      "execution_count": 5,
      "metadata": {
        "colab": {
          "base_uri": "https://localhost:8080/"
        },
        "id": "V5j0GOcp0a1u",
        "outputId": "8f700f3a-349e-4a65-b4e2-6d470c07d6c9"
      },
      "outputs": [
        {
          "data": {
            "text/plain": [
              "(4017, 6)"
            ]
          },
          "execution_count": 5,
          "metadata": {},
          "output_type": "execute_result"
        }
      ],
      "source": [
        "# number of rows and Columns in this dataset\n",
        "skt_data.shape"
      ]
    },
    {
      "cell_type": "code",
      "execution_count": 9,
      "metadata": {
        "colab": {
          "base_uri": "https://localhost:8080/",
          "height": 178
        },
        "id": "xb_Fyv-IuSWV",
        "outputId": "f1890b63-da43-42d1-f445-208ca23e45d0"
      },
      "outputs": [
        {
          "data": {
            "text/plain": [
              "Outcome\n",
              "0    2195\n",
              "1    1678\n",
              "2     144\n",
              "Name: count, dtype: int64"
            ]
          },
          "execution_count": 9,
          "metadata": {},
          "output_type": "execute_result"
        }
      ],
      "source": [
        "skt_data['Outcome'].value_counts()"
      ]
    },
    {
      "cell_type": "code",
      "execution_count": 10,
      "metadata": {
        "colab": {
          "base_uri": "https://localhost:8080/",
          "height": 366
        },
        "id": "SRqpqVNIaNic",
        "outputId": "3c60c103-2c1a-4999-8f57-6aba4108fb59"
      },
      "outputs": [
        {
          "data": {
            "text/plain": [
              "Gender                 0\n",
              "Age                    0\n",
              "Blood Sugar Fasting    0\n",
              "Blood Sugar PP         0\n",
              "HbA1C                  0\n",
              "Outcome                0\n",
              "dtype: int64"
            ]
          },
          "execution_count": 10,
          "metadata": {},
          "output_type": "execute_result"
        }
      ],
      "source": [
        "skt_data.isnull().sum()\n"
      ]
    },
    {
      "cell_type": "code",
      "execution_count": 8,
      "metadata": {},
      "outputs": [
        {
          "data": {
            "text/html": [
              "<div>\n",
              "<style scoped>\n",
              "    .dataframe tbody tr th:only-of-type {\n",
              "        vertical-align: middle;\n",
              "    }\n",
              "\n",
              "    .dataframe tbody tr th {\n",
              "        vertical-align: top;\n",
              "    }\n",
              "\n",
              "    .dataframe thead th {\n",
              "        text-align: right;\n",
              "    }\n",
              "</style>\n",
              "<table border=\"1\" class=\"dataframe\">\n",
              "  <thead>\n",
              "    <tr style=\"text-align: right;\">\n",
              "      <th></th>\n",
              "      <th>Gender</th>\n",
              "      <th>Age</th>\n",
              "      <th>Blood Sugar Fasting</th>\n",
              "      <th>Blood Sugar PP</th>\n",
              "      <th>HbA1C</th>\n",
              "      <th>Outcome</th>\n",
              "    </tr>\n",
              "  </thead>\n",
              "  <tbody>\n",
              "    <tr>\n",
              "      <th>0</th>\n",
              "      <td>0</td>\n",
              "      <td>74</td>\n",
              "      <td>244.5</td>\n",
              "      <td>213.9</td>\n",
              "      <td>6.11</td>\n",
              "      <td>0</td>\n",
              "    </tr>\n",
              "    <tr>\n",
              "      <th>1</th>\n",
              "      <td>0</td>\n",
              "      <td>38</td>\n",
              "      <td>223.5</td>\n",
              "      <td>304.8</td>\n",
              "      <td>6.96</td>\n",
              "      <td>0</td>\n",
              "    </tr>\n",
              "    <tr>\n",
              "      <th>2</th>\n",
              "      <td>0</td>\n",
              "      <td>62</td>\n",
              "      <td>131.5</td>\n",
              "      <td>207.3</td>\n",
              "      <td>7.02</td>\n",
              "      <td>0</td>\n",
              "    </tr>\n",
              "    <tr>\n",
              "      <th>3</th>\n",
              "      <td>1</td>\n",
              "      <td>72</td>\n",
              "      <td>131.3</td>\n",
              "      <td>247.6</td>\n",
              "      <td>6.66</td>\n",
              "      <td>0</td>\n",
              "    </tr>\n",
              "    <tr>\n",
              "      <th>4</th>\n",
              "      <td>0</td>\n",
              "      <td>54</td>\n",
              "      <td>214.3</td>\n",
              "      <td>338.8</td>\n",
              "      <td>11.06</td>\n",
              "      <td>0</td>\n",
              "    </tr>\n",
              "    <tr>\n",
              "      <th>...</th>\n",
              "      <td>...</td>\n",
              "      <td>...</td>\n",
              "      <td>...</td>\n",
              "      <td>...</td>\n",
              "      <td>...</td>\n",
              "      <td>...</td>\n",
              "    </tr>\n",
              "    <tr>\n",
              "      <th>4012</th>\n",
              "      <td>0</td>\n",
              "      <td>75</td>\n",
              "      <td>120.0</td>\n",
              "      <td>221.8</td>\n",
              "      <td>6.80</td>\n",
              "      <td>0</td>\n",
              "    </tr>\n",
              "    <tr>\n",
              "      <th>4013</th>\n",
              "      <td>0</td>\n",
              "      <td>36</td>\n",
              "      <td>92.0</td>\n",
              "      <td>99.4</td>\n",
              "      <td>4.19</td>\n",
              "      <td>1</td>\n",
              "    </tr>\n",
              "    <tr>\n",
              "      <th>4014</th>\n",
              "      <td>1</td>\n",
              "      <td>59</td>\n",
              "      <td>107.0</td>\n",
              "      <td>179.0</td>\n",
              "      <td>4.90</td>\n",
              "      <td>1</td>\n",
              "    </tr>\n",
              "    <tr>\n",
              "      <th>4015</th>\n",
              "      <td>0</td>\n",
              "      <td>50</td>\n",
              "      <td>99.0</td>\n",
              "      <td>198.0</td>\n",
              "      <td>4.20</td>\n",
              "      <td>1</td>\n",
              "    </tr>\n",
              "    <tr>\n",
              "      <th>4016</th>\n",
              "      <td>0</td>\n",
              "      <td>37</td>\n",
              "      <td>213.0</td>\n",
              "      <td>366.7</td>\n",
              "      <td>6.30</td>\n",
              "      <td>0</td>\n",
              "    </tr>\n",
              "  </tbody>\n",
              "</table>\n",
              "<p>4017 rows × 6 columns</p>\n",
              "</div>"
            ],
            "text/plain": [
              "      Gender  Age  Blood Sugar Fasting  Blood Sugar PP  HbA1C  Outcome\n",
              "0          0   74                244.5           213.9   6.11        0\n",
              "1          0   38                223.5           304.8   6.96        0\n",
              "2          0   62                131.5           207.3   7.02        0\n",
              "3          1   72                131.3           247.6   6.66        0\n",
              "4          0   54                214.3           338.8  11.06        0\n",
              "...      ...  ...                  ...             ...    ...      ...\n",
              "4012       0   75                120.0           221.8   6.80        0\n",
              "4013       0   36                 92.0            99.4   4.19        1\n",
              "4014       1   59                107.0           179.0   4.90        1\n",
              "4015       0   50                 99.0           198.0   4.20        1\n",
              "4016       0   37                213.0           366.7   6.30        0\n",
              "\n",
              "[4017 rows x 6 columns]"
            ]
          },
          "execution_count": 8,
          "metadata": {},
          "output_type": "execute_result"
        }
      ],
      "source": [
        "le_encode = LabelEncoder()\n",
        "skt_data['Gender'] = le_encode.fit_transform(skt_data['Gender'])\n",
        "skt_data['Outcome'] = le_encode.fit_transform(skt_data['Outcome'])\n",
        "skt_data"
      ]
    },
    {
      "cell_type": "code",
      "execution_count": 11,
      "metadata": {
        "id": "EMCZU2ly0lOx"
      },
      "outputs": [
        {
          "name": "stdout",
          "output_type": "stream",
          "text": [
            "Outcome\n",
            "0    2195\n",
            "1    1678\n",
            "2     144\n",
            "Name: count, dtype: int64\n"
          ]
        }
      ],
      "source": [
        "print(skt_data['Outcome'].value_counts())"
      ]
    },
    {
      "cell_type": "markdown",
      "metadata": {},
      "source": [
        " **Train Test Spliting**"
      ]
    },
    {
      "cell_type": "code",
      "execution_count": 12,
      "metadata": {
        "id": "wvEWLolL1PAj"
      },
      "outputs": [],
      "source": [
        "X = skt_data.drop('Outcome', axis=1)  # features: Gender, Age, Blood Sugar, etc.\n",
        "y = skt_data['Outcome']\n",
        "scaler = StandardScaler()\n",
        "X = scaler.fit_transform(X)\n",
        "X_train, X_test, y_train, y_test = train_test_split(X, y, test_size=0.2, random_state=42)"
      ]
    }
  ],
  "metadata": {
    "colab": {
      "provenance": []
    },
    "kernelspec": {
      "display_name": "Python 3",
      "name": "python3"
    },
    "language_info": {
      "codemirror_mode": {
        "name": "ipython",
        "version": 3
      },
      "file_extension": ".py",
      "mimetype": "text/x-python",
      "name": "python",
      "nbconvert_exporter": "python",
      "pygments_lexer": "ipython3",
      "version": "3.12.3"
    }
  },
  "nbformat": 4,
  "nbformat_minor": 0
}
